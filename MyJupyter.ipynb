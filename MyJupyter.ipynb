{
 "cells": [
  {
   "cell_type": "markdown",
   "id": "f2f9ecb0-e517-40e1-b502-ea15ffb6666d",
   "metadata": {},
   "source": [
    "# My Jupyter Notebook on IBM Watson Studio"
   ]
  },
  {
   "cell_type": "markdown",
   "id": "bebe2a9c-2270-4c86-be13-739d87a9ff48",
   "metadata": {},
   "source": [
    "## **Hugo Hruby Júnior**\n",
    "Geophysicist"
   ]
  },
  {
   "cell_type": "markdown",
   "id": "cb478428-889b-4dc1-8a40-a21ab1ae758e",
   "metadata": {},
   "source": [
    "*I am interested in data science because throughout my graduation i had to deal with large amounts of geophysical data.*"
   ]
  },
  {
   "cell_type": "markdown",
   "id": "2fbf3031-90d8-40e2-8138-93d9f4a7a3d8",
   "metadata": {},
   "source": [
    "### The code is suppose to add 1 + 1"
   ]
  },
  {
   "cell_type": "code",
   "execution_count": 3,
   "id": "97b4e840-42d6-4d51-862e-a89ddb76847e",
   "metadata": {},
   "outputs": [
    {
     "data": {
      "text/plain": [
       "2"
      ]
     },
     "execution_count": 3,
     "metadata": {},
     "output_type": "execute_result"
    }
   ],
   "source": [
    "1 + 1 "
   ]
  },
  {
   "cell_type": "markdown",
   "id": "d1ead80a-a206-43ce-a844-ca60e8934588",
   "metadata": {},
   "source": [
    "Tables | Being | Used\n",
    "--- | --- | ---\n",
    "*Code* | `Cell` | **Number 6**\n",
    "1 | 2 | 3\n",
    "\n",
    "[Let's play chess?](https://www.chess.com/member/gudang777)"
   ]
  },
  {
   "cell_type": "code",
   "execution_count": null,
   "id": "637e971f-3279-4d6d-b6aa-8b86e74e63dd",
   "metadata": {},
   "outputs": [],
   "source": []
  }
 ],
 "metadata": {
  "kernelspec": {
   "display_name": "Python",
   "language": "python",
   "name": "conda-env-python-py"
  },
  "language_info": {
   "codemirror_mode": {
    "name": "ipython",
    "version": 3
   },
   "file_extension": ".py",
   "mimetype": "text/x-python",
   "name": "python",
   "nbconvert_exporter": "python",
   "pygments_lexer": "ipython3",
   "version": "3.7.12"
  }
 },
 "nbformat": 4,
 "nbformat_minor": 5
}
